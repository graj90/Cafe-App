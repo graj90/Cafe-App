{
  "nbformat": 4,
  "nbformat_minor": 0,
  "metadata": {
    "colab": {
      "provenance": [],
      "authorship_tag": "ABX9TyPkYmiFfmqrt1udVCWgRvZg",
      "include_colab_link": true
    },
    "kernelspec": {
      "name": "python3",
      "display_name": "Python 3"
    },
    "language_info": {
      "name": "python"
    }
  },
  "cells": [
    {
      "cell_type": "markdown",
      "metadata": {
        "id": "view-in-github",
        "colab_type": "text"
      },
      "source": [
        "<a href=\"https://colab.research.google.com/github/graj90/Cafe-App/blob/main/python1.ipynb\" target=\"_parent\"><img src=\"https://colab.research.google.com/assets/colab-badge.svg\" alt=\"Open In Colab\"/></a>"
      ]
    },
    {
      "cell_type": "markdown",
      "source": [],
      "metadata": {
        "id": "kDnrt5mFOzNF"
      }
    },
    {
      "cell_type": "code",
      "source": [
        "name = \"pooja\"\n",
        "print (\"Hello\", name)"
      ],
      "metadata": {
        "id": "Bo2bAaQrOXnY",
        "colab": {
          "base_uri": "https://localhost:8080/"
        },
        "outputId": "7ee9456a-e507-4a71-d90f-e8292524f4f2"
      },
      "execution_count": null,
      "outputs": [
        {
          "output_type": "stream",
          "name": "stdout",
          "text": [
            "Hello pooja\n"
          ]
        }
      ]
    },
    {
      "cell_type": "markdown",
      "source": [
        "# the the line for taking name via variable"
      ],
      "metadata": {
        "id": "guIwbkFJPDDc"
      }
    },
    {
      "cell_type": "code",
      "source": [
        "print (\"Hello python\",\"programming\")"
      ],
      "metadata": {
        "colab": {
          "base_uri": "https://localhost:8080/"
        },
        "id": "uwf9H8hjxCYq",
        "outputId": "2072f038-07d7-4474-a8de-bcb33991a3ae"
      },
      "execution_count": null,
      "outputs": [
        {
          "output_type": "stream",
          "name": "stdout",
          "text": [
            "Hello python programming\n"
          ]
        }
      ]
    },
    {
      "cell_type": "code",
      "source": [
        "a=3.6\n",
        "b=5.6\n",
        "print(a+b)\n",
        "print(4.5+6.5)"
      ],
      "metadata": {
        "colab": {
          "base_uri": "https://localhost:8080/"
        },
        "id": "cwJybvI71AqD",
        "outputId": "e7f39f50-c3fc-4aeb-9e92-a244bc6a1ea6"
      },
      "execution_count": null,
      "outputs": [
        {
          "output_type": "stream",
          "name": "stdout",
          "text": [
            "9.2\n",
            "11.0\n"
          ]
        }
      ]
    },
    {
      "cell_type": "code",
      "source": [
        "number_str=\"10\"\n",
        "   number_int=int(number_str)  # Converts \"10\" to 10"
      ],
      "metadata": {
        "colab": {
          "base_uri": "https://localhost:8080/",
          "height": 106
        },
        "id": "hVv-6_pn5Q9J",
        "outputId": "1ab6a8f0-31cc-4121-ec48-1c06fbd27720"
      },
      "execution_count": null,
      "outputs": [
        {
          "output_type": "error",
          "ename": "IndentationError",
          "evalue": "unexpected indent (<ipython-input-14-4152d0653e5c>, line 2)",
          "traceback": [
            "\u001b[0;36m  File \u001b[0;32m\"<ipython-input-14-4152d0653e5c>\"\u001b[0;36m, line \u001b[0;32m2\u001b[0m\n\u001b[0;31m    number_int=int(number_str)  # Converts \"10\" to 10\u001b[0m\n\u001b[0m    ^\u001b[0m\n\u001b[0;31mIndentationError\u001b[0m\u001b[0;31m:\u001b[0m unexpected indent\n"
          ]
        }
      ]
    },
    {
      "cell_type": "code",
      "source": [],
      "metadata": {
        "id": "q9HLI3VcFUWZ"
      },
      "execution_count": null,
      "outputs": []
    },
    {
      "source": [
        "number_str = \"10\"\n",
        "number_int = int(number_str)  # Converts \"10\" to 10"
      ],
      "cell_type": "code",
      "metadata": {
        "id": "35lEIJSl6W0z"
      },
      "execution_count": null,
      "outputs": []
    },
    {
      "source": [
        "number_str = \"10\"\n",
        "number_int = int(number_str)  # Converts \"10\" to 10"
      ],
      "cell_type": "code",
      "metadata": {
        "id": "6xEqwL8z6fq_"
      },
      "execution_count": null,
      "outputs": []
    },
    {
      "cell_type": "code",
      "source": [
        "age=25\n",
        "name=\"pooja\"\n",
        "weight=45.5\n",
        "print (type(age))\n",
        "print (type(name))\n",
        "print (type(weight))"
      ],
      "metadata": {
        "colab": {
          "base_uri": "https://localhost:8080/"
        },
        "id": "DtKpheaa1rwA",
        "outputId": "3a55dadd-c19d-4861-d8c1-6d307971821d"
      },
      "execution_count": null,
      "outputs": [
        {
          "output_type": "stream",
          "name": "stdout",
          "text": [
            "<class 'int'>\n",
            "<class 'str'>\n",
            "<class 'float'>\n"
          ]
        }
      ]
    },
    {
      "cell_type": "code",
      "source": [],
      "metadata": {
        "id": "gK_WGcW8FQw5"
      },
      "execution_count": null,
      "outputs": []
    },
    {
      "cell_type": "code",
      "source": [],
      "metadata": {
        "id": "RnvYFT9k1omy"
      },
      "execution_count": null,
      "outputs": []
    },
    {
      "cell_type": "code",
      "source": [
        "print(\"welcome to the python\")\n",
        "number=10\n",
        "print(\"the number is \",number)"
      ],
      "metadata": {
        "colab": {
          "base_uri": "https://localhost:8080/"
        },
        "id": "dCoqd1CxEo13",
        "outputId": "a730bdea-728c-4846-b808-acaf44a361b8"
      },
      "execution_count": null,
      "outputs": [
        {
          "output_type": "stream",
          "name": "stdout",
          "text": [
            "welcome to the python\n",
            "the number is  10\n"
          ]
        }
      ]
    },
    {
      "cell_type": "code",
      "source": [
        "print(2+3)"
      ],
      "metadata": {
        "colab": {
          "base_uri": "https://localhost:8080/"
        },
        "id": "cX2zdeaI0skx",
        "outputId": "e8b43135-eae9-4513-89a1-cc6760cfdd57"
      },
      "execution_count": null,
      "outputs": [
        {
          "output_type": "stream",
          "name": "stdout",
          "text": [
            "5\n"
          ]
        }
      ]
    },
    {
      "cell_type": "code",
      "source": [
        "number=int(\"10\")\n",
        "string=str(10)\n",
        "print"
      ],
      "metadata": {
        "colab": {
          "base_uri": "https://localhost:8080/"
        },
        "id": "2CWBMVlJ8Re8",
        "outputId": "7722d8d5-8409-42d2-ef04-0a40abc32abf"
      },
      "execution_count": null,
      "outputs": [
        {
          "output_type": "execute_result",
          "data": {
            "text/plain": [
              "<function print(*args, sep=' ', end='\\n', file=None, flush=False)>"
            ]
          },
          "metadata": {},
          "execution_count": 19
        }
      ]
    },
    {
      "source": [
        "number = int(\"10\")\n",
        "string = str(\"15\")\n",
        "float_value = float(59)\n",
        "print(number, string, float_value)"
      ],
      "cell_type": "code",
      "metadata": {
        "colab": {
          "base_uri": "https://localhost:8080/"
        },
        "id": "KD1AQfBT9oFu",
        "outputId": "5cc392f9-3167-446f-9dff-bcfc60a957bd"
      },
      "execution_count": null,
      "outputs": [
        {
          "output_type": "stream",
          "name": "stdout",
          "text": [
            "10 15 59.0\n"
          ]
        }
      ]
    },
    {
      "cell_type": "code",
      "source": [
        "name=input(\"enter your name\")\n",
        "print(\"your name is\",name)"
      ],
      "metadata": {
        "colab": {
          "base_uri": "https://localhost:8080/"
        },
        "id": "7RFpfr7jFfSA",
        "outputId": "ef041e38-ff40-49c6-f408-29493e040856"
      },
      "execution_count": null,
      "outputs": [
        {
          "output_type": "stream",
          "name": "stdout",
          "text": [
            "enter your nameraj\n",
            "your name is raj\n"
          ]
        }
      ]
    },
    {
      "cell_type": "code",
      "source": [
        "name=input(\"enter the name\")\n",
        "print(\"hello\", name+ \"!\")"
      ],
      "metadata": {
        "colab": {
          "base_uri": "https://localhost:8080/"
        },
        "id": "948ZgQl_G97c",
        "outputId": "40e07ef6-6a89-4939-e1f0-34091ed8bf87"
      },
      "execution_count": null,
      "outputs": [
        {
          "output_type": "stream",
          "name": "stdout",
          "text": [
            "enter the namepooja\n",
            "hello pooja!\n"
          ]
        }
      ]
    },
    {
      "cell_type": "code",
      "source": [
        "age=input(\"how old are you\")\n",
        "print(\"i am a \", age , \"years old\")"
      ],
      "metadata": {
        "colab": {
          "base_uri": "https://localhost:8080/"
        },
        "id": "HJP_IgLXIDjc",
        "outputId": "63761ae9-8cbc-4a83-d95f-ea63139f5ad2"
      },
      "execution_count": null,
      "outputs": [
        {
          "output_type": "stream",
          "name": "stdout",
          "text": [
            "how old are you45\n",
            "i am a  45 years old\n"
          ]
        }
      ]
    },
    {
      "cell_type": "code",
      "source": [
        "name=input(\"enter the your name\")\n",
        "print(\"Hi how are you \", name+ \"!\")"
      ],
      "metadata": {
        "colab": {
          "base_uri": "https://localhost:8080/"
        },
        "id": "QZC2YH-pHT3o",
        "outputId": "3e4dd1e7-ca1b-4b24-f04a-c2564c6292f4"
      },
      "execution_count": null,
      "outputs": [
        {
          "output_type": "stream",
          "name": "stdout",
          "text": [
            "enter the your namepooja\n",
            "Hi how are you  pooja!\n"
          ]
        }
      ]
    },
    {
      "cell_type": "code",
      "source": [
        "age=input(\"how old are you\")\n",
        "print(\"Next year you will be \", age+1, \"years old\")"
      ],
      "metadata": {
        "colab": {
          "base_uri": "https://localhost:8080/",
          "height": 211
        },
        "id": "tLT-pbEaIfxr",
        "outputId": "e024a8d3-5154-407b-9053-11d4bc80c3c5"
      },
      "execution_count": null,
      "outputs": [
        {
          "name": "stdout",
          "output_type": "stream",
          "text": [
            "how old are you24\n"
          ]
        },
        {
          "output_type": "error",
          "ename": "TypeError",
          "evalue": "can only concatenate str (not \"int\") to str",
          "traceback": [
            "\u001b[0;31m---------------------------------------------------------------------------\u001b[0m",
            "\u001b[0;31mTypeError\u001b[0m                                 Traceback (most recent call last)",
            "\u001b[0;32m<ipython-input-36-9d08d31becc9>\u001b[0m in \u001b[0;36m<cell line: 0>\u001b[0;34m()\u001b[0m\n\u001b[1;32m      1\u001b[0m \u001b[0mage\u001b[0m\u001b[0;34m=\u001b[0m\u001b[0minput\u001b[0m\u001b[0;34m(\u001b[0m\u001b[0;34m\"how old are you\"\u001b[0m\u001b[0;34m)\u001b[0m\u001b[0;34m\u001b[0m\u001b[0;34m\u001b[0m\u001b[0m\n\u001b[0;32m----> 2\u001b[0;31m \u001b[0mprint\u001b[0m\u001b[0;34m(\u001b[0m\u001b[0;34m\"Next year you will be \"\u001b[0m\u001b[0;34m,\u001b[0m \u001b[0mage\u001b[0m\u001b[0;34m+\u001b[0m\u001b[0;36m1\u001b[0m\u001b[0;34m,\u001b[0m \u001b[0;34m\"years old\"\u001b[0m\u001b[0;34m)\u001b[0m\u001b[0;34m\u001b[0m\u001b[0;34m\u001b[0m\u001b[0m\n\u001b[0m",
            "\u001b[0;31mTypeError\u001b[0m: can only concatenate str (not \"int\") to str"
          ]
        }
      ]
    },
    {
      "source": [
        "age = int(input(\"how old are you\"))  # Convert input to an integer\n",
        "print(\"Next year you will be \", age + 1, \"years old\")"
      ],
      "cell_type": "code",
      "metadata": {
        "colab": {
          "base_uri": "https://localhost:8080/"
        },
        "id": "Ugf04jovKR9j",
        "outputId": "80eb16eb-2268-49d1-c0ab-27afae749fd7"
      },
      "execution_count": null,
      "outputs": [
        {
          "output_type": "stream",
          "name": "stdout",
          "text": [
            "how old are you25\n",
            "Next year you will be  26 years old\n"
          ]
        }
      ]
    },
    {
      "cell_type": "code",
      "source": [
        "age= int (input(\"enter the your age\"))\n",
        "print(\"next year you will be\", age+1, \"years old\")"
      ],
      "metadata": {
        "colab": {
          "base_uri": "https://localhost:8080/"
        },
        "id": "XICmWtopKYrh",
        "outputId": "45552356-61d6-419f-c36f-c9bec13dd811"
      },
      "execution_count": null,
      "outputs": [
        {
          "output_type": "stream",
          "name": "stdout",
          "text": [
            "enter the your age24\n",
            "next year you will be 25 years old\n"
          ]
        }
      ]
    },
    {
      "cell_type": "code",
      "source": [
        "num1=float(input(\"enter the first number\"))\n",
        "num2=float(input(\"enter the second number\"))\n",
        "result=num1+num2\n",
        "print(\"the sum of two number is\", result)"
      ],
      "metadata": {
        "colab": {
          "base_uri": "https://localhost:8080/"
        },
        "id": "4w63E5LKIscB",
        "outputId": "78283181-8a7e-4ba4-abef-778196926170"
      },
      "execution_count": 1,
      "outputs": [
        {
          "output_type": "stream",
          "name": "stdout",
          "text": [
            "enter the first number4\n",
            "enter the second number4\n",
            "the sum of two number is 8.0\n"
          ]
        }
      ]
    },
    {
      "cell_type": "code",
      "source": [
        "num1=int(input(\"enter the first number\"))\n",
        "num2=float(input(\"enter the seconf number\"))\n",
        "result=num1+num2\n",
        "print(\"the sum of two number is\",result)"
      ],
      "metadata": {
        "colab": {
          "base_uri": "https://localhost:8080/"
        },
        "id": "G3tvaESkJSqR",
        "outputId": "d6f3d28b-7d82-4beb-91bd-ec6e53465ff6"
      },
      "execution_count": 5,
      "outputs": [
        {
          "output_type": "stream",
          "name": "stdout",
          "text": [
            "enter the first number2\n",
            "enter the seconf number3.0\n",
            "the sum of two number is 5.0\n"
          ]
        }
      ]
    },
    {
      "cell_type": "code",
      "source": [
        "name1=input(\"enter your name\")\n",
        "print(\"my name is \",name1)"
      ],
      "metadata": {
        "colab": {
          "base_uri": "https://localhost:8080/"
        },
        "id": "DQFOizfdFtX-",
        "outputId": "134f1dbb-b324-4564-8385-8410c82bde0a"
      },
      "execution_count": null,
      "outputs": [
        {
          "output_type": "stream",
          "name": "stdout",
          "text": [
            "enter your namepooja\n",
            "my name is  pooja\n"
          ]
        }
      ]
    },
    {
      "cell_type": "code",
      "source": [
        "age=10\n",
        "name=\"poojraj\"\n",
        "print(f\"my name is {name} and my age is {age}\")\n",
        "print(age)\n",
        "print(name)"
      ],
      "metadata": {
        "colab": {
          "base_uri": "https://localhost:8080/"
        },
        "id": "b3lIgeu7xwxY",
        "outputId": "edc05e15-b5b1-49e2-a656-d1c791dd78ab"
      },
      "execution_count": null,
      "outputs": [
        {
          "output_type": "stream",
          "name": "stdout",
          "text": [
            "my name is poojraj and my age is 10\n",
            "10\n",
            "poojraj\n"
          ]
        }
      ]
    },
    {
      "cell_type": "code",
      "source": [
        "name=\"pooja\"\n",
        "age=10\n",
        "color=\"blue\"\n",
        "print (f\"my name is {name},i am a {age} years old\",\"my fav color is {color}\")"
      ],
      "metadata": {
        "colab": {
          "base_uri": "https://localhost:8080/"
        },
        "id": "mXUbtURQO-PJ",
        "outputId": "998e7341-fe1b-49ad-b704-d4ebfec7d59d"
      },
      "execution_count": 7,
      "outputs": [
        {
          "output_type": "stream",
          "name": "stdout",
          "text": [
            "my name is pooja,i am a 10 years old my fav color is {color}\n"
          ]
        }
      ]
    },
    {
      "cell_type": "code",
      "source": [
        "first_name=input(\"enter the your first name\")\n",
        "last_name=input(\"enter the your last name\")\n",
        "age=input(\"enter the your age\")\n",
        "print(f\" I am a  {first_name}, my sir name  {last_name}, and i am {age} years old\")"
      ],
      "metadata": {
        "colab": {
          "base_uri": "https://localhost:8080/"
        },
        "id": "AL5XoEapV_0P",
        "outputId": "e7909a4b-517a-4117-fd84-c5d30b82b2e2"
      },
      "execution_count": 10,
      "outputs": [
        {
          "output_type": "stream",
          "name": "stdout",
          "text": [
            "enter the your first namePooja\n",
            "enter the your last nameRathod\n",
            "enter the your age17\n",
            " I am a  Pooja, my sir name  Rathod, and i am 17 years old\n"
          ]
        }
      ]
    },
    {
      "cell_type": "code",
      "source": [
        "n1=int(input(\"enter first number\"))\n",
        "n2=int(input(\"enter the second number\"))\n",
        "print(f\"sum of two numbers is {n1+n2}\")\n",
        "print(f\"sub of two numbers is {n1-n2}\")\n",
        "print(f\"mul of two numbers is {n1*n2}\")\n",
        "print(f\"quations of two number is {n1/n2}\")"
      ],
      "metadata": {
        "colab": {
          "base_uri": "https://localhost:8080/"
        },
        "id": "j4Wxbxl9You8",
        "outputId": "507437bd-6e0e-4aed-d57a-89e8c7deb3ee"
      },
      "execution_count": 12,
      "outputs": [
        {
          "output_type": "stream",
          "name": "stdout",
          "text": [
            "enter first number8\n",
            "enter the second number4\n",
            "sum of two numbers is 12\n",
            "sub of two numbers is 4\n",
            "mul of two numbers is 32\n",
            "quations of two number is 2.0\n"
          ]
        }
      ]
    },
    {
      "cell_type": "code",
      "source": [
        "name=input(\"enter the your name:\")\n",
        "num=int(input(\"enter the number age:\"))\n",
        "print(f\"hello {name}, did you know the {num} is times 2 is 14\")"
      ],
      "metadata": {
        "colab": {
          "base_uri": "https://localhost:8080/"
        },
        "id": "9-qgP1R5cf1B",
        "outputId": "08899257-a9a9-40a8-b646-2b06fc7bf5c3"
      },
      "execution_count": 18,
      "outputs": [
        {
          "output_type": "stream",
          "name": "stdout",
          "text": [
            "enter the your name:Pooja\n",
            "enter the number age:7\n",
            "hello Pooja, did you know the 7 is times 2 is 14\n"
          ]
        }
      ]
    },
    {
      "cell_type": "code",
      "source": [
        "name=str(input(\"enter your name\"))\n",
        "hobby=str(input(\"Enter your hobby\"))\n",
        "hour=int(input(\"how many hours do spend on hobby\"))\n",
        "print(\"my name is \", name)\n",
        "print(\"my hobby is \", hobby)\n",
        "print(\" i spend \", hour , \"hour on hobby \")"
      ],
      "metadata": {
        "colab": {
          "base_uri": "https://localhost:8080/"
        },
        "id": "km3iSM6cMoBQ",
        "outputId": "ec23524f-05e8-4a5e-e7ab-2e3f23224472"
      },
      "execution_count": 6,
      "outputs": [
        {
          "output_type": "stream",
          "name": "stdout",
          "text": [
            "enter your namepooja\n",
            "Enter your hobbyediting\n",
            "how many hours do spend on hobby4\n",
            "my name is  pooja\n",
            "my hobby is  editing\n",
            " i spend  4 hour on hobby \n"
          ]
        }
      ]
    },
    {
      "cell_type": "markdown",
      "source": [
        "# This is the second session for learning python"
      ],
      "metadata": {
        "id": "wfv66xP8REDS"
      }
    }
  ]
}